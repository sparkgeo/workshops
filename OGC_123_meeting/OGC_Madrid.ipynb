{
  "nbformat": 4,
  "nbformat_minor": 0,
  "metadata": {
    "colab": {
      "name": "OGC-Madrid.ipynb",
      "provenance": [],
      "collapsed_sections": [],
      "include_colab_link": true
    },
    "kernelspec": {
      "name": "python3",
      "display_name": "Python 3"
    },
    "language_info": {
      "name": "python"
    }
  },
  "cells": [
    {
      "cell_type": "markdown",
      "metadata": {
        "id": "view-in-github",
        "colab_type": "text"
      },
      "source": [
        "<a href=\"https://colab.research.google.com/github/sparkgeo/workshops/blob/main/OGC_Madrid.ipynb\" target=\"_parent\"><img src=\"https://colab.research.google.com/assets/colab-badge.svg\" alt=\"Open In Colab\"/></a>"
      ]
    },
    {
      "cell_type": "markdown",
      "source": [
        "# Introduction\n",
        "\n",
        "Hi! Welcome to the Sparkgeo OGC STAC Workshop. During this workshop you'll learn how to source, create, and manipulate a STAC item and collection. You'll also learn how to implement STAC extensions such as the scientific and label extensions. \n",
        "\n",
        "## What is STAC?\n",
        "\n",
        "From the website: \n",
        ">The SpatioTemporal Asset Catalog (STAC) specification provides a common language to describe a range of geospatial information, so it can more easily be indexed and discovered. A 'spatiotemporal asset' is any file that represents information about the earth captured in a certain space and time.\n",
        "\n",
        "STAC provides a 'signpost' for your dataset, giving those interested information about what the data is and where to find it. \n",
        "\n",
        "Lets get right into things!\n"
      ],
      "metadata": {
        "id": "DVboE80bpFUO"
      }
    },
    {
      "cell_type": "markdown",
      "source": [
        "# Canada Landsat Disturbance (CanLaD) "
      ],
      "metadata": {
        "id": "oyZgyWhlWioK"
      }
    },
    {
      "cell_type": "code",
      "source": [
        "!pip install rasterio\n",
        "!pip install rio_cogeo\n",
        "!pip install aiohttp\n",
        "import rasterio"
      ],
      "metadata": {
        "colab": {
          "base_uri": "https://localhost:8080/"
        },
        "id": "9-OnrQGSWtV7",
        "outputId": "6465ecd4-88d4-41ef-930c-9ddec964bd39"
      },
      "execution_count": 51,
      "outputs": [
        {
          "output_type": "stream",
          "name": "stdout",
          "text": [
            "Looking in indexes: https://pypi.org/simple, https://us-python.pkg.dev/colab-wheels/public/simple/\n",
            "Requirement already satisfied: rasterio in /usr/local/lib/python3.7/dist-packages (1.2.10)\n",
            "Requirement already satisfied: setuptools in /usr/local/lib/python3.7/dist-packages (from rasterio) (57.4.0)\n",
            "Requirement already satisfied: certifi in /usr/local/lib/python3.7/dist-packages (from rasterio) (2022.5.18.1)\n",
            "Requirement already satisfied: cligj>=0.5 in /usr/local/lib/python3.7/dist-packages (from rasterio) (0.7.2)\n",
            "Requirement already satisfied: numpy in /usr/local/lib/python3.7/dist-packages (from rasterio) (1.21.6)\n",
            "Requirement already satisfied: attrs in /usr/local/lib/python3.7/dist-packages (from rasterio) (21.4.0)\n",
            "Requirement already satisfied: click-plugins in /usr/local/lib/python3.7/dist-packages (from rasterio) (1.1.1)\n",
            "Requirement already satisfied: snuggs>=1.4.1 in /usr/local/lib/python3.7/dist-packages (from rasterio) (1.4.7)\n",
            "Requirement already satisfied: click>=4.0 in /usr/local/lib/python3.7/dist-packages (from rasterio) (7.1.2)\n",
            "Requirement already satisfied: affine in /usr/local/lib/python3.7/dist-packages (from rasterio) (2.3.1)\n",
            "Requirement already satisfied: pyparsing>=2.1.6 in /usr/local/lib/python3.7/dist-packages (from snuggs>=1.4.1->rasterio) (3.0.9)\n",
            "Looking in indexes: https://pypi.org/simple, https://us-python.pkg.dev/colab-wheels/public/simple/\n",
            "Requirement already satisfied: rio_cogeo in /usr/local/lib/python3.7/dist-packages (3.2.0)\n",
            "Requirement already satisfied: rasterio>=1.1 in /usr/local/lib/python3.7/dist-packages (from rio_cogeo) (1.2.10)\n",
            "Requirement already satisfied: morecantile<4.0,>=3.1 in /usr/local/lib/python3.7/dist-packages (from rio_cogeo) (3.1.2)\n",
            "Requirement already satisfied: numpy~=1.15 in /usr/local/lib/python3.7/dist-packages (from rio_cogeo) (1.21.6)\n",
            "Requirement already satisfied: pydantic in /usr/local/lib/python3.7/dist-packages (from rio_cogeo) (1.9.1)\n",
            "Requirement already satisfied: click>=7.0 in /usr/local/lib/python3.7/dist-packages (from rio_cogeo) (7.1.2)\n",
            "Requirement already satisfied: attrs in /usr/local/lib/python3.7/dist-packages (from morecantile<4.0,>=3.1->rio_cogeo) (21.4.0)\n",
            "Requirement already satisfied: pyproj~=3.1 in /usr/local/lib/python3.7/dist-packages (from morecantile<4.0,>=3.1->rio_cogeo) (3.2.1)\n",
            "Requirement already satisfied: certifi in /usr/local/lib/python3.7/dist-packages (from pyproj~=3.1->morecantile<4.0,>=3.1->rio_cogeo) (2022.5.18.1)\n",
            "Requirement already satisfied: cligj>=0.5 in /usr/local/lib/python3.7/dist-packages (from rasterio>=1.1->rio_cogeo) (0.7.2)\n",
            "Requirement already satisfied: affine in /usr/local/lib/python3.7/dist-packages (from rasterio>=1.1->rio_cogeo) (2.3.1)\n",
            "Requirement already satisfied: setuptools in /usr/local/lib/python3.7/dist-packages (from rasterio>=1.1->rio_cogeo) (57.4.0)\n",
            "Requirement already satisfied: click-plugins in /usr/local/lib/python3.7/dist-packages (from rasterio>=1.1->rio_cogeo) (1.1.1)\n",
            "Requirement already satisfied: snuggs>=1.4.1 in /usr/local/lib/python3.7/dist-packages (from rasterio>=1.1->rio_cogeo) (1.4.7)\n",
            "Requirement already satisfied: pyparsing>=2.1.6 in /usr/local/lib/python3.7/dist-packages (from snuggs>=1.4.1->rasterio>=1.1->rio_cogeo) (3.0.9)\n",
            "Requirement already satisfied: typing-extensions>=3.7.4.3 in /usr/local/lib/python3.7/dist-packages (from pydantic->rio_cogeo) (4.2.0)\n",
            "Looking in indexes: https://pypi.org/simple, https://us-python.pkg.dev/colab-wheels/public/simple/\n",
            "Collecting aiohttp\n",
            "  Downloading aiohttp-3.8.1-cp37-cp37m-manylinux_2_5_x86_64.manylinux1_x86_64.manylinux_2_12_x86_64.manylinux2010_x86_64.whl (1.1 MB)\n",
            "\u001b[K     |████████████████████████████████| 1.1 MB 18.3 MB/s \n",
            "\u001b[?25hRequirement already satisfied: attrs>=17.3.0 in /usr/local/lib/python3.7/dist-packages (from aiohttp) (21.4.0)\n",
            "Collecting aiosignal>=1.1.2\n",
            "  Downloading aiosignal-1.2.0-py3-none-any.whl (8.2 kB)\n",
            "Collecting async-timeout<5.0,>=4.0.0a3\n",
            "  Downloading async_timeout-4.0.2-py3-none-any.whl (5.8 kB)\n",
            "Requirement already satisfied: typing-extensions>=3.7.4 in /usr/local/lib/python3.7/dist-packages (from aiohttp) (4.2.0)\n",
            "Collecting frozenlist>=1.1.1\n",
            "  Downloading frozenlist-1.3.0-cp37-cp37m-manylinux_2_5_x86_64.manylinux1_x86_64.manylinux_2_17_x86_64.manylinux2014_x86_64.whl (144 kB)\n",
            "\u001b[K     |████████████████████████████████| 144 kB 39.6 MB/s \n",
            "\u001b[?25hRequirement already satisfied: charset-normalizer<3.0,>=2.0 in /usr/local/lib/python3.7/dist-packages (from aiohttp) (2.0.12)\n",
            "Collecting asynctest==0.13.0\n",
            "  Downloading asynctest-0.13.0-py3-none-any.whl (26 kB)\n",
            "Collecting multidict<7.0,>=4.5\n",
            "  Downloading multidict-6.0.2-cp37-cp37m-manylinux_2_17_x86_64.manylinux2014_x86_64.whl (94 kB)\n",
            "\u001b[K     |████████████████████████████████| 94 kB 2.8 MB/s \n",
            "\u001b[?25hCollecting yarl<2.0,>=1.0\n",
            "  Downloading yarl-1.7.2-cp37-cp37m-manylinux_2_5_x86_64.manylinux1_x86_64.manylinux_2_12_x86_64.manylinux2010_x86_64.whl (271 kB)\n",
            "\u001b[K     |████████████████████████████████| 271 kB 52.5 MB/s \n",
            "\u001b[?25hRequirement already satisfied: idna>=2.0 in /usr/local/lib/python3.7/dist-packages (from yarl<2.0,>=1.0->aiohttp) (2.10)\n",
            "Installing collected packages: multidict, frozenlist, yarl, asynctest, async-timeout, aiosignal, aiohttp\n",
            "Successfully installed aiohttp-3.8.1 aiosignal-1.2.0 async-timeout-4.0.2 asynctest-0.13.0 frozenlist-1.3.0 multidict-6.0.2 yarl-1.7.2\n"
          ]
        }
      ]
    },
    {
      "cell_type": "markdown",
      "source": [
        "# Library Installation\n",
        "\n",
        "We start by installing a couple python libraries that don't come pre-installed in the CoLab notebook. We will use PySTAC to create and manipulate our STAC data and Rasterio for some exploratory analysis.\n",
        "\n",
        "### PySTAC\n",
        "PySTAC is a library for working with STAC in Python 3. Some features of PySTAC:\n",
        "\n",
        ">* Reading and writing STAC version 1.0.\n",
        "* In-memory manipulation of STAC catalogs.\n",
        "* Extend the I/O of STAC metadata to provide support for other platforms (e.g. cloud providers).\n",
        "* Easy, efficient crawling of STAC catalogs. STAC objects are only read in when needed.\n",
        "\n",
        "### PyProj\n",
        "PyProj is a Python interface to PROJ (cartographic projections and coordinate transformations library). This is used for reprojecting coordinates later on in the tutorial.\n",
        "\n",
        "\n",
        "\n",
        "\n"
      ],
      "metadata": {
        "id": "GVi94LMcrgzA"
      }
    },
    {
      "cell_type": "code",
      "source": [
        "!pip install pystac\n",
        "!pip install pyproj\n",
        "!pip install fsspec"
      ],
      "metadata": {
        "id": "XqJ1xqj27igU",
        "colab": {
          "base_uri": "https://localhost:8080/"
        },
        "outputId": "40812df9-c78c-43cb-d449-1958992c1592"
      },
      "execution_count": 29,
      "outputs": [
        {
          "output_type": "stream",
          "name": "stdout",
          "text": [
            "Looking in indexes: https://pypi.org/simple, https://us-python.pkg.dev/colab-wheels/public/simple/\n",
            "Requirement already satisfied: pystac in /usr/local/lib/python3.7/dist-packages (1.4.0)\n",
            "Requirement already satisfied: python-dateutil>=2.7.0 in /usr/local/lib/python3.7/dist-packages (from pystac) (2.8.2)\n",
            "Requirement already satisfied: typing-extensions>=3.7 in /usr/local/lib/python3.7/dist-packages (from pystac) (4.2.0)\n",
            "Requirement already satisfied: six>=1.5 in /usr/local/lib/python3.7/dist-packages (from python-dateutil>=2.7.0->pystac) (1.15.0)\n",
            "Looking in indexes: https://pypi.org/simple, https://us-python.pkg.dev/colab-wheels/public/simple/\n",
            "Requirement already satisfied: pyproj in /usr/local/lib/python3.7/dist-packages (3.2.1)\n",
            "Requirement already satisfied: certifi in /usr/local/lib/python3.7/dist-packages (from pyproj) (2022.5.18.1)\n",
            "Looking in indexes: https://pypi.org/simple, https://us-python.pkg.dev/colab-wheels/public/simple/\n",
            "Requirement already satisfied: fsspec in /usr/local/lib/python3.7/dist-packages (2022.5.0)\n"
          ]
        }
      ]
    },
    {
      "cell_type": "markdown",
      "source": [
        "#Imports \n",
        "\n",
        "Next up we have our imports, some of these are for exploring the data, the others are for making sure our data is of the right type in the STAC object. We'll set an EPSG constant for later.\n"
      ],
      "metadata": {
        "id": "bHUSl9ybAdSQ"
      }
    },
    {
      "cell_type": "code",
      "execution_count": 52,
      "metadata": {
        "id": "ThXKxOD57HsI"
      },
      "outputs": [],
      "source": [
        "import pystac\n",
        "from urllib.request import urlopen, urlretrieve\n",
        "import requests\n",
        "import aiohttp\n",
        "import json\n",
        "import fsspec\n",
        "from typing import Any, Dict\n",
        "from pyproj import CRS, Proj\n",
        "from shapely.geometry import Polygon, box\n",
        "from typing import Any, Dict, List, Optional\n",
        "from datetime import datetime\n",
        "from shapely.geometry import mapping as geojson_mapping\n",
        "from pystac.extensions.file import FileExtension\n",
        "from pystac import Link, Provider, ProviderRole\n",
        "\n",
        "from pystac.extensions.projection import ProjectionExtension\n",
        "from pystac.extensions.scientific import ScientificExtension\n",
        "from pystac.extensions.label import (\n",
        "    LabelClasses,\n",
        "    LabelExtension,\n",
        "    LabelTask,\n",
        "    LabelType,\n",
        ")"
      ]
    },
    {
      "cell_type": "code",
      "source": [
        "DATA_EPSG = 3979\n",
        "DATA_CRS_WKT = CRS.from_epsg(DATA_EPSG).to_wkt()"
      ],
      "metadata": {
        "id": "Vp-JiVvgKmpB"
      },
      "execution_count": 31,
      "outputs": []
    },
    {
      "cell_type": "markdown",
      "source": [
        "## Cloud Optimized Geotiff\n",
        "\n",
        "Lets grab some of the data from the Government of Canada website and make some COGS. COGS are great for cloud geospatial since they support range requests. Couple this with clever internal tiling and you have a very consumable tiff that is also backwards compatible.\n",
        "\n"
      ],
      "metadata": {
        "id": "Vra0yRcdKtWh"
      }
    },
    {
      "cell_type": "code",
      "source": [
        "!wget 'https://ftp.maps.canada.ca/pub/nrcan_rncan/Forests_Foret/landsat_disturbance/1984_2015/CanLaD_20151984_latest_YRT2.tif'\n",
        "!wget 'https://ftp.maps.canada.ca/pub/nrcan_rncan/Forests_Foret/landsat_disturbance/1984_2015/CanLaD_20151984_latest_type.tif'\n",
        "!ls"
      ],
      "metadata": {
        "colab": {
          "base_uri": "https://localhost:8080/"
        },
        "id": "tYs4MzrGLV9f",
        "outputId": "fee10c25-79d6-49c3-d77a-f8f730daeef1"
      },
      "execution_count": 32,
      "outputs": [
        {
          "output_type": "stream",
          "name": "stdout",
          "text": [
            "--2022-06-17 05:56:29--  https://ftp.maps.canada.ca/pub/nrcan_rncan/Forests_Foret/landsat_disturbance/1984_2015/CanLaD_20151984_latest_YRT2.tif\n",
            "Resolving ftp.maps.canada.ca (ftp.maps.canada.ca)... 15.222.205.109\n",
            "Connecting to ftp.maps.canada.ca (ftp.maps.canada.ca)|15.222.205.109|:443... connected.\n",
            "HTTP request sent, awaiting response... 200 OK\n",
            "Length: 604432423 (576M) [image/tiff]\n",
            "Saving to: ‘CanLaD_20151984_latest_YRT2.tif.2’\n",
            "\n",
            "CanLaD_20151984_lat 100%[===================>] 576.43M  61.8MB/s    in 9.2s    \n",
            "\n",
            "2022-06-17 05:56:39 (62.5 MB/s) - ‘CanLaD_20151984_latest_YRT2.tif.2’ saved [604432423/604432423]\n",
            "\n",
            "--2022-06-17 05:56:39--  https://ftp.maps.canada.ca/pub/nrcan_rncan/Forests_Foret/landsat_disturbance/1984_2015/CanLaD_20151984_latest_type.tif\n",
            "Resolving ftp.maps.canada.ca (ftp.maps.canada.ca)... 15.222.205.109\n",
            "Connecting to ftp.maps.canada.ca (ftp.maps.canada.ca)|15.222.205.109|:443... connected.\n",
            "HTTP request sent, awaiting response... 200 OK\n",
            "Length: 290194588 (277M) [image/tiff]\n",
            "Saving to: ‘CanLaD_20151984_latest_type.tif.2’\n",
            "\n",
            "CanLaD_20151984_lat 100%[===================>] 276.75M  72.7MB/s    in 3.8s    \n",
            "\n",
            "2022-06-17 05:56:44 (72.7 MB/s) - ‘CanLaD_20151984_latest_type.tif.2’ saved [290194588/290194588]\n",
            "\n",
            "CanLaD_20151984_latest_type_cog.tif  CanLaD_20151984_latest_YRT2.tif\n",
            "CanLaD_20151984_latest_type.tif      CanLaD_20151984_latest_YRT2.tif.1\n",
            "CanLaD_20151984_latest_type.tif.1    CanLaD_20151984_latest_YRT2.tif.2\n",
            "CanLaD_20151984_latest_type.tif.2    sample_data\n"
          ]
        }
      ]
    },
    {
      "cell_type": "code",
      "source": [
        "!rio cogeo validate CanLaD_20151984_latest_type.tif"
      ],
      "metadata": {
        "colab": {
          "base_uri": "https://localhost:8080/"
        },
        "id": "5LeEK4OHLW4B",
        "outputId": "dc43ab2e-c347-4b9f-f093-870b730e36cd"
      },
      "execution_count": 33,
      "outputs": [
        {
          "output_type": "stream",
          "name": "stdout",
          "text": [
            "\u001b[31mThe following errors were found:\u001b[0m\n",
            "- The offset of the main IFD should be < 300. It is 241765672 instead\n",
            "- The offset of the first block of overview of index 1 should be after the one of the overview of index 2\n",
            "- The offset of the first block of overview of index 0 should be after the one of the overview of index 1\n",
            "- The offset of the first block of the main resolution image should be after the one of the overview of index 2\n",
            "/content/CanLaD_20151984_latest_type.tif is NOT a valid cloud optimized GeoTIFF\n"
          ]
        }
      ]
    },
    {
      "cell_type": "code",
      "source": [
        "# THIS CAN TAKE A WHILE. USE CAUTION\n",
        "#\n",
        "# cog_translate('CanLaD_20151984_latest_type.tif', 'CanLaD_20151984_latest_type_cog.tif')\n",
        "# !rio cogeo validate `CanLaD_20151984_latest_type_cog.tif`"
      ],
      "metadata": {
        "id": "eTJRkqA7MxD9"
      },
      "execution_count": 34,
      "outputs": []
    },
    {
      "cell_type": "code",
      "source": [
        "# You can use this COG on AWS instead if needed.\n",
        "!rio cogeo validate https://ogc-madrid.s3.eu-central-1.amazonaws.com/CanLaD_20151984_latest_type_cog.tiff"
      ],
      "metadata": {
        "colab": {
          "base_uri": "https://localhost:8080/"
        },
        "id": "WHqA5455Mdok",
        "outputId": "1ce047bb-3706-4eb7-d832-4454babc2e75"
      },
      "execution_count": 35,
      "outputs": [
        {
          "output_type": "stream",
          "name": "stdout",
          "text": [
            "WARNING:rasterio._env:CPLE_AppDefined in HTTP response code on https://ogc-madrid.s3.eu-central-1.amazonaws.com/CanLaD_20151984_latest_type_cog.tiff.aux.xml: 403\n",
            "WARNING:rasterio._env:CPLE_AppDefined in HTTP response code on https://ogc-madrid.s3.eu-central-1.amazonaws.com/CanLaD_20151984_latest_type_cog.aux: 403\n",
            "WARNING:rasterio._env:CPLE_AppDefined in HTTP response code on https://ogc-madrid.s3.eu-central-1.amazonaws.com/CanLaD_20151984_latest_type_cog.AUX: 403\n",
            "WARNING:rasterio._env:CPLE_AppDefined in HTTP response code on https://ogc-madrid.s3.eu-central-1.amazonaws.com/CanLaD_20151984_latest_type_cog.tiff.aux: 403\n",
            "WARNING:rasterio._env:CPLE_AppDefined in HTTP response code on https://ogc-madrid.s3.eu-central-1.amazonaws.com/CanLaD_20151984_latest_type_cog.tiff.AUX: 403\n",
            "WARNING:rasterio._env:CPLE_AppDefined in HTTP response code on https://ogc-madrid.s3.eu-central-1.amazonaws.com/CanLaD_20151984_latest_type_cog.tiff.ovr: 403\n",
            "WARNING:rasterio._env:CPLE_AppDefined in HTTP response code on https://ogc-madrid.s3.eu-central-1.amazonaws.com/CanLaD_20151984_latest_type_cog.tiff.OVR: 403\n",
            "WARNING:rasterio._env:CPLE_AppDefined in HTTP response code on https://ogc-madrid.s3.eu-central-1.amazonaws.com/CanLaD_20151984_latest_type_cog.tiff.msk: 403\n",
            "WARNING:rasterio._env:CPLE_AppDefined in HTTP response code on https://ogc-madrid.s3.eu-central-1.amazonaws.com/CanLaD_20151984_latest_type_cog.tiff.MSK: 403\n",
            "WARNING:rasterio._env:CPLE_AppDefined in HTTP response code on https://ogc-madrid.s3.eu-central-1.amazonaws.com/CanLaD_20151984_latest_type_cog.XML: 403\n",
            "WARNING:rasterio._env:CPLE_AppDefined in HTTP response code on https://ogc-madrid.s3.eu-central-1.amazonaws.com/CanLaD_20151984_latest_type_cog.xml: 403\n",
            "WARNING:rasterio._env:CPLE_AppDefined in HTTP response code on https://ogc-madrid.s3.eu-central-1.amazonaws.com/CanLaD_20151984_latest_type_cog.IMD: 403\n",
            "WARNING:rasterio._env:CPLE_AppDefined in HTTP response code on https://ogc-madrid.s3.eu-central-1.amazonaws.com/CanLaD_20151984_latest_type_cog.imd: 403\n",
            "WARNING:rasterio._env:CPLE_AppDefined in HTTP response code on https://ogc-madrid.s3.eu-central-1.amazonaws.com/CanLaD_20151984_latest_type_cog.RPB: 403\n",
            "WARNING:rasterio._env:CPLE_AppDefined in HTTP response code on https://ogc-madrid.s3.eu-central-1.amazonaws.com/CanLaD_20151984_latest_type_cog.rpb: 403\n",
            "WARNING:rasterio._env:CPLE_AppDefined in HTTP response code on https://ogc-madrid.s3.eu-central-1.amazonaws.com/CanLaD_20151984_latest_type_cog.PVL: 403\n",
            "WARNING:rasterio._env:CPLE_AppDefined in HTTP response code on https://ogc-madrid.s3.eu-central-1.amazonaws.com/CanLaD_20151984_latest_type_cog.pvl: 403\n",
            "WARNING:rasterio._env:CPLE_AppDefined in HTTP response code on https://ogc-madrid.s3.eu-central-1.amazonaws.com/CanLaD_20151984_latest_type_cog_rpc.txt: 403\n",
            "WARNING:rasterio._env:CPLE_AppDefined in HTTP response code on https://ogc-madrid.s3.eu-central-1.amazonaws.com/CanLaD_20151984_latest_type_cog_RPC.TXT: 403\n",
            "WARNING:rasterio._env:CPLE_AppDefined in HTTP response code on https://ogc-madrid.s3.eu-central-1.amazonaws.com/CanLaD_20151984_latest_type_cog_metadata.txt: 403\n",
            "WARNING:rasterio._env:CPLE_AppDefined in HTTP response code on https://ogc-madrid.s3.eu-central-1.amazonaws.com/CanLaD_20151984_latest_type_cog_METADATA.TXT: 403\n",
            "WARNING:rasterio._env:CPLE_AppDefined in HTTP response code on https://ogc-madrid.s3.eu-central-1.amazonaws.com/CanLaD_20151984_latest_type_cog_MTL.txt: 403\n",
            "WARNING:rasterio._env:CPLE_AppDefined in HTTP response code on https://ogc-madrid.s3.eu-central-1.amazonaws.com/CanLaD_20151984_latest_type_cog_MTL.TXT: 403\n",
            "WARNING:rasterio._env:CPLE_AppDefined in HTTP response code on https://ogc-madrid.s3.eu-central-1.amazonaws.com/METADATA.DIM: 403\n",
            "WARNING:rasterio._env:CPLE_AppDefined in HTTP response code on https://ogc-madrid.s3.eu-central-1.amazonaws.com/metadata.dim: 403\n",
            "WARNING:rasterio._env:CPLE_AppDefined in HTTP response code on https://ogc-madrid.s3.eu-central-1.amazonaws.com/CanLaD_20151984_latest_type_cog_metadata.xml: 403\n",
            "WARNING:rasterio._env:CPLE_AppDefined in HTTP response code on https://ogc-madrid.s3.eu-central-1.amazonaws.com/CanLaD_20151984_latest_type_cog_METADATA.XML: 403\n",
            "WARNING:rasterio._env:CPLE_AppDefined in HTTP response code on https://ogc-madrid.s3.eu-central-1.amazonaws.com/CanLaD_20151984_latest_type_cog.TXT: 403\n",
            "WARNING:rasterio._env:CPLE_AppDefined in HTTP response code on https://ogc-madrid.s3.eu-central-1.amazonaws.com/CanLaD_20151984_latest_type_cog.txt: 403\n",
            "WARNING:rasterio._env:CPLE_AppDefined in HTTP response code on https://ogc-madrid.s3.eu-central-1.amazonaws.com/CanLaD_20151984_latest_type_cog.RPC: 403\n",
            "WARNING:rasterio._env:CPLE_AppDefined in HTTP response code on https://ogc-madrid.s3.eu-central-1.amazonaws.com/CanLaD_20151984_latest_type_cog.rpc: 403\n",
            "WARNING:rasterio._env:CPLE_AppDefined in HTTP response code on https://ogc-madrid.s3.eu-central-1.amazonaws.com/CanLaD_20151984_latest_type_cog.pass: 403\n",
            "WARNING:rasterio._env:CPLE_AppDefined in HTTP response code on https://ogc-madrid.s3.eu-central-1.amazonaws.com/CanLaD_20151984_latest_type_cog.PASS: 403\n",
            "WARNING:rasterio._env:CPLE_AppDefined in HTTP response code on https://ogc-madrid.s3.eu-central-1.amazonaws.com/summary.txt: 403\n",
            "WARNING:rasterio._env:CPLE_AppDefined in HTTP response code on https://ogc-madrid.s3.eu-central-1.amazonaws.com/SUMMARY.TXT: 403\n",
            "WARNING:rasterio._env:CPLE_AppDefined in HTTP response code on https://ogc-madrid.s3.eu-central-1.amazonaws.com/HDR_20151984_latest_type_cog.txt: 403\n",
            "WARNING:rasterio._env:CPLE_AppDefined in HTTP response code on https://ogc-madrid.s3.eu-central-1.amazonaws.com/HDR_20151984_latest_type_cog.TXT: 403\n",
            "WARNING:rasterio._env:CPLE_AppDefined in HTTP response code on https://ogc-madrid.s3.eu-central-1.amazonaws.com/HDRLaD_20151984_latest_type_cog.txt: 403\n",
            "WARNING:rasterio._env:CPLE_AppDefined in HTTP response code on https://ogc-madrid.s3.eu-central-1.amazonaws.com/HDRLaD_20151984_latest_type_cog.TXT: 403\n",
            "WARNING:rasterio._env:CPLE_AppDefined in HTTP response code on https://ogc-madrid.s3.eu-central-1.amazonaws.com/RPC_20151984_latest_type_cog.txt: 403\n",
            "WARNING:rasterio._env:CPLE_AppDefined in HTTP response code on https://ogc-madrid.s3.eu-central-1.amazonaws.com/RPC_20151984_latest_type_cog.TXT: 403\n",
            "WARNING:rasterio._env:CPLE_AppDefined in HTTP response code on https://ogc-madrid.s3.eu-central-1.amazonaws.com/RPCLaD_20151984_latest_type_cog.txt: 403\n",
            "WARNING:rasterio._env:CPLE_AppDefined in HTTP response code on https://ogc-madrid.s3.eu-central-1.amazonaws.com/RPCLaD_20151984_latest_type_cog.TXT: 403\n",
            "https://ogc-madrid.s3.eu-central-1.amazonaws.com/CanLaD_20151984_latest_type_cog.tiff is a valid cloud optimized GeoTIFF\n"
          ]
        }
      ]
    },
    {
      "cell_type": "markdown",
      "source": [
        "I'll also declare this function which is a modified version of this script: https://github.com/stactools-packages/nrcan-landcover/blob/7708e8656834d23d910b7b8f65b5d7f520895224/src/stactools/nrcan_landcover/utils.py#L42\n",
        "This script captures data from a provided `JSON-LD` metadata file, which we'll pass in later. The Canadian Federal datasets are great for providing this additional info and it makes our jobs much easier too. "
      ],
      "metadata": {
        "id": "CpZeusNEtuhu"
      }
    },
    {
      "cell_type": "code",
      "source": [
        "def get_metadata(metadata_url: str) -> Dict[str, Any]:\n",
        "    \"\"\"Gets metadata from the various formats published by NRCan.\n",
        "    Args:\n",
        "        metadata_url (str): url to get metadata from.\n",
        "    Returns:\n",
        "        dict: Metadata.\n",
        "    \"\"\"\n",
        "    if metadata_url.endswith(\".jsonld\"):\n",
        "        if metadata_url.startswith(\"http\"):\n",
        "            metadata_response = requests.get(metadata_url)\n",
        "            jsonld_response = metadata_response.json()\n",
        "        else:\n",
        "            with open(metadata_url) as f:\n",
        "                jsonld_response = json.load(f)\n",
        "\n",
        "        tiff_metadata = [\n",
        "            i for i in jsonld_response.get(\"@graph\")\n",
        "            if i.get(\"dct:format\") == \"TIFF\"\n",
        "        ][0]\n",
        "\n",
        "        geom_obj = next(\n",
        "            (x[\"locn:geometry\"] for x in jsonld_response[\"@graph\"]\n",
        "             if \"locn:geometry\" in x.keys()),\n",
        "            [],\n",
        "        )  # type: Any\n",
        "        geom_metadata = next(\n",
        "            (json.loads(x[\"@value\"])\n",
        "             for x in geom_obj if x[\"@type\"].startswith(\"http\")),\n",
        "            None,\n",
        "        )\n",
        "        if not geom_metadata:\n",
        "            raise ValueError(\"Unable to parse geometry metadata from jsonld\")\n",
        "\n",
        "        description_metadata = [\n",
        "            i for i in jsonld_response.get(\"@graph\")\n",
        "            if \"dct:description\" in i.keys()\n",
        "        ][0]\n",
        "\n",
        "        metadata = {\n",
        "            \"tiff_metadata\": tiff_metadata,\n",
        "            \"geom_metadata\": geom_metadata,\n",
        "            \"description_metadata\": description_metadata\n",
        "        }\n",
        "\n",
        "        return metadata\n",
        "    else:\n",
        "        # only jsonld support.\n",
        "        raise NotImplementedError()"
      ],
      "metadata": {
        "id": "8GBYf0RGTZl-"
      },
      "execution_count": 36,
      "outputs": []
    },
    {
      "cell_type": "markdown",
      "source": [
        "# Item Creation \n",
        "\n",
        "An item is the second smallest STAC object we can create. If a collection is like a molecule than an item is an individual atom. Each item holds information about a single file, and includes a link to that file in the form of an asset. We're going to add lots of information to our item including extensions used to fill out data that doesnt fall under the native STAC spec. \n",
        "\n",
        "First we're going to use the metadata to get some basic properties. Let's take a look and see what we can learn from it:"
      ],
      "metadata": {
        "id": "LAnlTmzIohTx"
      }
    },
    {
      "cell_type": "code",
      "source": [
        "# If the open.canada.ca site is down for maintenance use the Wayback Machine link below\n",
        "#\n",
        "metadata_url = 'https://web.archive.org/web/20200210170028/https://open.canada.ca/data/en/dataset/add1346b-f632-4eb9-a83d-a662b38655ad.jsonld'\n",
        "# metadata_url = 'https://open.canada.ca/data/en/dataset/add1346b-f632-4eb9-a83d-a662b38655ad.jsonld'\n",
        "metadata = get_metadata(metadata_url)\n",
        "metadata\n"
      ],
      "metadata": {
        "colab": {
          "base_uri": "https://localhost:8080/"
        },
        "id": "CJ33SkHOEkW5",
        "outputId": "82f8377c-e846-475f-bf43-caf4aecfa0c9"
      },
      "execution_count": 37,
      "outputs": [
        {
          "output_type": "execute_result",
          "data": {
            "text/plain": [
              "{'description_metadata': {'@id': 'https://web.archive.org/web/20200210170028/https://open.canada.ca/dataset/add1346b-f632-4eb9-a83d-a662b38655ad',\n",
              "  'dcat:contactPoint': {'@id': '_:N9d213cb3f2af4cf18cf2eb3e7c0275d9'},\n",
              "  'dcat:distribution': [{'@id': 'https://web.archive.org/web/20200210170028/https://open.canada.ca/dataset/add1346b-f632-4eb9-a83d-a662b38655ad/resource/4334d4fe-5314-43ab-b412-f164cd54af52'},\n",
              "   {'@id': 'https://web.archive.org/web/20200210170028/https://open.canada.ca/dataset/add1346b-f632-4eb9-a83d-a662b38655ad/resource/3d3df246-3614-42c0-b754-c4ceb0c8587b'},\n",
              "   {'@id': 'https://web.archive.org/web/20200210170028/https://open.canada.ca/dataset/add1346b-f632-4eb9-a83d-a662b38655ad/resource/1595fc60-b4ac-4ea3-a920-ff10b921fd5a'}],\n",
              "  'dct:accrualPeriodicity': 'as_needed',\n",
              "  'dct:description': 'This data publication contains a set of files in which areas affected by fire or by harvest from 1984 to 2015 are identified at the level of individual 30m pixels on the Landsat grid. Details of the product development can be found in Guindon et al (2018).  \\nThe change detection is based on reflectance-corrected yearly summer (July and August) Landsat mosaics from 1984 to 2015 created from individual scenes developed from USGS reflectance products  (Masek et al, 2006; Vermote et al, 2006). Briefly, the change detection method uses a six-year temporal signature centered on the disturbance year to identify fire, harvest and no change.  The signatures were derived from visually-interpreted disturbance or no-change polygons that were used to fit a decision tree model.  \\nThe method detects about 91% of the areas harvested and 85% of the areas burned across Canada’s forests over the study period, but overestimates areas disturbed in the two initial and mostly in the two final years of the 1985 to 2015 time series. This is caused by the absence of appropriate pre-disturbance and post-disturbance data for the model-based detection and attribution.  Disturbance coverage in those four years should therefore be used with caution. As in Guindon et al (2014), the method was designed to minimize commission errors and has a disturbance class attribution success rate of about 98%. The attribution success rate of disturbance year for fire is of about 69% for the exact year and of about 99% when attribution to the following year is also considered as a success.  This common one-year lag is mostly due to the use of mid-summer Landsat mosaics for the analysis that will cause spring and fall events of the same year to be attributed to successive years. For example, a fire that occurred in the fall of 2004 (after July and August), will be detected and attributed to 2005, while for a fire that occurred in the spring of 2004 will be detected and attributed to 2004.  The presence of clouds and shadows or image availability causes 10% of missing data annually and therefore can too delay the capture of events.   \\nThe data provides uniform spatial and temporal information on fire and harvest across all provinces and territories of Canada and is intended for strategic-level analysis. Since no attention was given to other minor disturbances such as mining, road or flooding, the product should not be used for their identification. Finally, calibration datasets were developed for only three major forest pests (mountain pine beetle, eastern spruce budworm and forest tent caterpillar), but were folded within the “no-change” class in order to minimize commission errors for fire and harvest .  Less common pests for which validation datasets are hard to develop were not considered and therefore could in rare circumstances generate false fire events.   \\nConsidering that area having two (3.3%) to three disturbances (less than 1%) events are not common, only the most recent disturbance is provided, overlapping older disturbances in these rare case.  \\n## Please cite this dataset as:   \\nGuindon, L., P. Villemaire, R. St-Amant, P.Y. Bernier, A. Beaudoin, F. Caron, M. Bonucelli and H. Dorion. 2017. Canada Landsat Disturbance (CanLaD): a Canada-wide Landsat-based 30-m resolution product of fire and harvest detection and attribution since 1984.  https://doi.org/10.23687/add1346b-f632-4eb9-a83d-a662b38655ad  \\n## Scientific article citation:\\nThe creation, validation and limitations of the CanLaD product are described in the Supplementary Material file associated with the following article: Guindon, L.; Bernier, P.Y.; Gauthier, S.; Stinson, G.; Villemaire, P.; Beaudoin, A. 2018. Missing forest cover gains in boreal forests explained. Ecosphere, 9 (1) Article e02094. doi:10.1002/ecs2.2094.\\n## Cited references:  \\nMasek, J.G., Vermote, E.F., Saleous N.E., Wolfe, R., Hall, F.G., Huemmrich, K.F., Gao, F., Kutler, J., and Lim, T-K. (2006). A Landsat surface reflectance dataset for North America, 1990–2000. IEEE Geoscience and Remote Sensing Letters 3(1):68-72. http://dx.doi.org/10.1109/LGRS.2005.857030.  \\nVermote, E., Justice, C., Claverie, M., & Franch, B. (2016). Preliminary analysis of the performance of the Landsat 8/OLI land surface reflectance product. Remote Sensing of Environment. http://dx.doi.org/10.1016/j.rse.2016.04.008.',\n",
              "  'dct:identifier': 'add1346b-f632-4eb9-a83d-a662b38655ad',\n",
              "  'dct:issued': {'@type': 'xsd:dateTime',\n",
              "   '@value': '2018-01-10T15:25:04.409973'},\n",
              "  'dct:modified': {'@type': 'xsd:dateTime',\n",
              "   '@value': '2018-05-01T13:12:01.916249'},\n",
              "  'dct:publisher': {'@id': 'https://web.archive.org/web/20200210170028/https://open.canada.ca/organization/9391E0A2-9717-4755-B548-4499C21F917B'},\n",
              "  'dct:spatial': {'@id': '_:N0bc6e8908e744b4884e8be9f147c5c5e'},\n",
              "  'dct:title': 'Canada Landsat Disturbance (CanLaD) 2017',\n",
              "  'schema:itemtype': {'@id': 'dcat:Dataset'}},\n",
              " 'geom_metadata': {'coordinates': [[[-141.003, 41.6755],\n",
              "    [-52.6174, 41.6755],\n",
              "    [-52.6174, 83.113],\n",
              "    [-141.003, 83.113],\n",
              "    [-141.003, 41.6755]]],\n",
              "  'type': 'Polygon'},\n",
              " 'tiff_metadata': {'@id': 'https://web.archive.org/web/20200210170028/https://open.canada.ca/dataset/add1346b-f632-4eb9-a83d-a662b38655ad/resource/1595fc60-b4ac-4ea3-a920-ff10b921fd5a',\n",
              "  'dcat:accessURL': {'@id': 'https://web.archive.org/web/20200210170028/http://ftp.maps.canada.ca/pub/nrcan_rncan/Forests_Foret/landsat_disturbance/1984_2015/CanLaD_20151984_latest_YRT2.tif'},\n",
              "  'dct:format': 'TIFF',\n",
              "  'dct:language': 'zxx',\n",
              "  'dct:title': 'Year of the latest forest disturbance, 1984 to 2015',\n",
              "  'schema:itemtype': {'@id': 'dcat:Distribution'}}}"
            ]
          },
          "metadata": {},
          "execution_count": 37
        }
      ]
    },
    {
      "cell_type": "markdown",
      "source": [
        "The title, description, and date are all important parts of the item. Note that title and description are added into a dictionary called properties. The properties dict holds additional metadata that falls outside of the standard STAC item args. Check out the docs here for more info: https://pystac.readthedocs.io/en/1.0/api/pystac.html#pystac.Item"
      ],
      "metadata": {
        "id": "LLkh3B1aEp-o"
      }
    },
    {
      "cell_type": "code",
      "source": [
        "title = metadata[\"tiff_metadata\"][\"dct:title\"]\n",
        "description = metadata[\"description_metadata\"][\"dct:description\"]\n",
        "properties = {\n",
        "    \"title\": title,\n",
        "    \"description\": description,\n",
        "}\n",
        "\n",
        "start_datetime = datetime.strptime('1984', \"%Y\")  \n",
        "end_datetime = datetime.strptime('2015', \"%Y\")"
      ],
      "metadata": {
        "id": "i9LXNXOhjm2i"
      },
      "execution_count": 38,
      "outputs": []
    },
    {
      "cell_type": "markdown",
      "source": [
        "Here I use rasterio to extract and transform some important spatial data for our STAC. STAC spec requires data in epsg 4326, but our projection extension requires the native geometry and bbox, so we take both. "
      ],
      "metadata": {
        "id": "no1rN3riS3Dx"
      }
    },
    {
      "cell_type": "code",
      "source": [
        "#cog_href = 'CanLaD_20151984_latest_type_cog.tif' \n",
        "cog_href = 'https://ogc-madrid.s3.eu-central-1.amazonaws.com/CanLaD_20151984_latest_type_cog.tiff'\n",
        "\n",
        "with rasterio.open(cog_href) as dataset:\n",
        "  cog_bbox = list(dataset.bounds)\n",
        "  cog_transform = list(dataset.transform)\n",
        "  cog_shape = [dataset.height, dataset.width]\n",
        "\n",
        "  transformer = Proj.from_crs(CRS.from_epsg(DATA_EPSG),\n",
        "                              CRS.from_epsg(4326),\n",
        "                              always_xy=True)\n",
        "  bbox = list(\n",
        "      transformer.transform_bounds(dataset.bounds.left,\n",
        "                                    dataset.bounds.bottom,\n",
        "                                    dataset.bounds.right,\n",
        "                                    dataset.bounds.top))\n",
        "  geometry = geojson_mapping(box(*bbox, ccw=True))"
      ],
      "metadata": {
        "id": "tG371d6DOjpi"
      },
      "execution_count": 39,
      "outputs": []
    },
    {
      "cell_type": "markdown",
      "source": [
        "Now we'll declare and initialize our item, using the information we've collected so far. We pass in a unique id, our geometry and bounding box, start and end date times, the properties dictionary and an empy list of STAC extensions. This last list we'll then fill in using applicable extensions."
      ],
      "metadata": {
        "id": "rw4UJCqzpp3g"
      }
    },
    {
      "cell_type": "code",
      "source": [
        "# Create item\n",
        "item = pystac.Item(\n",
        "  id='type_raster',\n",
        "  geometry=geometry,\n",
        "  bbox=bbox,\n",
        "  datetime=start_datetime,\n",
        "  properties=properties,\n",
        "  stac_extensions=[],\n",
        ")\n",
        "\n",
        "item.common_metadata.start_datetime = start_datetime\n",
        "item.common_metadata.end_datetime = end_datetime"
      ],
      "metadata": {
        "id": "fQ4AOuKnWP4P"
      },
      "execution_count": 40,
      "outputs": []
    },
    {
      "cell_type": "markdown",
      "source": [
        "You can run this cell to see the item spec in a sidebar, try it out!"
      ],
      "metadata": {
        "id": "_b5eVUwi0aHu"
      }
    },
    {
      "cell_type": "code",
      "source": [
        "item?\n"
      ],
      "metadata": {
        "id": "uQamcnhrdnG4"
      },
      "execution_count": 41,
      "outputs": []
    },
    {
      "cell_type": "markdown",
      "source": [
        "### Assets \n",
        "\n",
        "An asset is an object that contains a URI to the data associated with an item. In our case we will be adding two assets to each item in our collection. One asset is for the data itself while the other is for its metadata. Assets can either be created inside the `add_asset` function or created, then added after. You can see both methods here.  "
      ],
      "metadata": {
        "id": "HWe2XAt6CADK"
      }
    },
    {
      "cell_type": "code",
      "source": [
        "item.add_asset(\n",
        "  \"metadata\",\n",
        "  pystac.Asset(\n",
        "      href=metadata_url,\n",
        "      media_type=pystac.MediaType.JSON,\n",
        "      roles=[\"metadata\"],\n",
        "      title=\"Landsat Disturbance Metadata\",\n",
        "  ),\n",
        ")\n",
        "cog_asset = pystac.Asset(\n",
        "  href= cog_href,\n",
        "  media_type=pystac.MediaType.COG,\n",
        "  roles=[\n",
        "    \"data\",\n",
        "    \"labels\",\n",
        "    \"labels-raster\",\n",
        "  ],\n",
        "  title=\"Canada Landsat Disturbance COG\",\n",
        ")\n",
        "item.add_asset('COG', cog_asset)\n"
      ],
      "metadata": {
        "id": "g1J1Kua1CAMC"
      },
      "execution_count": 42,
      "outputs": []
    },
    {
      "cell_type": "markdown",
      "source": [
        "## Extensions\n",
        "\n",
        "The STAC spec itself is fairly minimal, but due to its extensibility it can become much more comprehensive. STAC extensions allow us to add tons of different data that is associated with our dataset. Extensions are JSON fields that are associated with etiher items, assets, collection or catalogs. In most cases when you are creating a STAC you will need to dig into the extensions in order to properly describe your data. The overview page is found here: https://stac-extensions.github.io/.\n",
        "One can add as many extensions as is applicable. \n",
        "\n",
        "For the purposes of this workshop we'll be focussing on item and asset extensions. "
      ],
      "metadata": {
        "id": "Tz2GyP572DOD"
      }
    },
    {
      "cell_type": "markdown",
      "source": [
        "### Projection Extension\n",
        "We'll start with the projection extension which provides a way to describe Items whose assets are in a geospatial projection. More info about this extension can be found here: https://github.com/stac-extensions/projection"
      ],
      "metadata": {
        "id": "WnhbRt51kUSA"
      }
    },
    {
      "cell_type": "code",
      "source": [
        "item_projection = ProjectionExtension.ext(item, add_if_missing=True)\n",
        "item_projection?\n"
      ],
      "metadata": {
        "id": "yZ6cB37fDp0N"
      },
      "execution_count": 43,
      "outputs": []
    },
    {
      "cell_type": "code",
      "source": [
        "item_projection.epsg = DATA_EPSG\n",
        "item_projection.wkt2 = DATA_CRS_WKT\n",
        "item_projection.bbox = cog_bbox\n",
        "item_projection.transform = cog_transform\n",
        "item_projection.shape = cog_shape"
      ],
      "metadata": {
        "id": "0ZzNf8KOzqpw"
      },
      "execution_count": 44,
      "outputs": []
    },
    {
      "cell_type": "markdown",
      "source": [
        "### Scientific Extension\n",
        "The scientific extension is used when an item contains data linked to a scientific publication, it tells a user which publication it originates from and how to cite it. I grabbed the DOI and the citation from here: https://open.canada.ca/data/en/dataset/add1346b-f632-4eb9-a83d-a662b38655ad\n",
        "\n",
        "You can find more info about the scientific extension here: https://github.com/stac-extensions/scientific"
      ],
      "metadata": {
        "id": "evnus5y69mNB"
      }
    },
    {
      "cell_type": "code",
      "source": [
        "CITATION = 'Guindon, L.; Bernier, P.Y.; Gauthier, S.; Stinson, G.; Villemaire, P.; Beaudoin, A. 2018. Missing forest cover gains in boreal forests explained. Ecosphere, 9 (1) Article e02094.'\n",
        "DOI = '10.1002/ecs2.2094'\n",
        "\n",
        "item_sci = ScientificExtension.ext(item, add_if_missing=True)\n",
        "item_sci.doi = DOI\n",
        "item_sci.citation = CITATION"
      ],
      "metadata": {
        "id": "DW-mQiW59leT"
      },
      "execution_count": 45,
      "outputs": []
    },
    {
      "cell_type": "markdown",
      "source": [
        "### Label Extension\n",
        "\n",
        "Though intended to support labeled AOIs with ML models the label extension is useful for any data that contains labeled AOIs. We use it here to provide info on the the classes in our raster data. \n",
        "More info on the label extension can be found here: https://github.com/stac-extensions/label"
      ],
      "metadata": {
        "id": "o3wdeym0-_Mf"
      }
    },
    {
      "cell_type": "code",
      "source": [
        "CLASSIFICATION_VALUES = {1: 'fire',\n",
        "                         2: 'harvest'}\n",
        "\n",
        "item_label = LabelExtension.ext(item, add_if_missing=True)\n",
        "item_label.label_type = LabelType.RASTER\n",
        "item_label.label_tasks = [LabelTask.CLASSIFICATION]\n",
        "item_label.label_properties = None\n",
        "item_label.label_description = \"Fire or Harvest\"\n",
        "item_label.label_classes = [LabelClasses.create(list(CLASSIFICATION_VALUES.values()), None)]\n"
      ],
      "metadata": {
        "id": "HTNUzm3x-_bQ"
      },
      "execution_count": 46,
      "outputs": []
    },
    {
      "cell_type": "markdown",
      "source": [
        "### File Info Extension \n",
        "\n",
        "Provides basic info such as size, data type and checksum for assets in an item or collection. The file extension can also be used to map our classification values. More info on the file extension can be found here: https://github.com/stac-extensions/file"
      ],
      "metadata": {
        "id": "ZBI0-9m5mlL8"
      }
    },
    {
      "cell_type": "code",
      "source": [
        "from pystac.extensions.file import MappingObject\n",
        "\n",
        "cog_asset_file = FileExtension.ext(cog_asset, add_if_missing=True)\n",
        "\n",
        "mapping = [\n",
        "  MappingObject.create(values=[value], summary=summary)\n",
        "  for value, summary in CLASSIFICATION_VALUES.items()\n",
        "]\n",
        "cog_asset_file.values = mapping\n",
        "\n",
        "with fsspec.open(cog_href) as file:\n",
        "  size = file.size\n",
        "  cog_asset_file.size = size"
      ],
      "metadata": {
        "id": "ECzt9iVumlaT"
      },
      "execution_count": 53,
      "outputs": []
    },
    {
      "cell_type": "code",
      "source": [
        "item.to_dict()"
      ],
      "metadata": {
        "id": "fsoHGlL6iKU0",
        "colab": {
          "base_uri": "https://localhost:8080/"
        },
        "outputId": "a66a5c53-f627-4932-fce1-23a332efd89f"
      },
      "execution_count": 54,
      "outputs": [
        {
          "output_type": "execute_result",
          "data": {
            "text/plain": [
              "{'assets': {'COG': {'file:size': 299320339,\n",
              "   'file:values': [{'summary': 'fire', 'values': [1]},\n",
              "    {'summary': 'harvest', 'values': [2]}],\n",
              "   'href': 'https://ogc-madrid.s3.eu-central-1.amazonaws.com/CanLaD_20151984_latest_type_cog.tiff',\n",
              "   'roles': ['data', 'labels', 'labels-raster'],\n",
              "   'title': 'Canada Landsat Disturbance COG',\n",
              "   'type': <MediaType.COG: 'image/tiff; application=geotiff; profile=cloud-optimized'>},\n",
              "  'metadata': {'href': 'https://web.archive.org/web/20200210170028/https://open.canada.ca/data/en/dataset/add1346b-f632-4eb9-a83d-a662b38655ad.jsonld',\n",
              "   'roles': ['metadata'],\n",
              "   'title': 'Landsat Disturbance Metadata',\n",
              "   'type': <MediaType.JSON: 'application/json'>}},\n",
              " 'bbox': [29.208147682613188,\n",
              "  40.20704372347072,\n",
              "  134.7641106438931,\n",
              "  80.41031119985433],\n",
              " 'geometry': {'coordinates': (((134.7641106438931, 40.20704372347072),\n",
              "    (134.7641106438931, 80.41031119985433),\n",
              "    (29.208147682613188, 80.41031119985433),\n",
              "    (29.208147682613188, 40.20704372347072),\n",
              "    (134.7641106438931, 40.20704372347072)),),\n",
              "  'type': 'Polygon'},\n",
              " 'id': 'type_raster',\n",
              " 'links': [{'href': 'https://doi.org/10.1002/ecs2.2094',\n",
              "   'rel': <ScientificRelType.CITE_AS: 'cite-as'>}],\n",
              " 'properties': {'datetime': '1984-01-01T00:00:00Z',\n",
              "  'description': 'This data publication contains a set of files in which areas affected by fire or by harvest from 1984 to 2015 are identified at the level of individual 30m pixels on the Landsat grid. Details of the product development can be found in Guindon et al (2018).  \\nThe change detection is based on reflectance-corrected yearly summer (July and August) Landsat mosaics from 1984 to 2015 created from individual scenes developed from USGS reflectance products  (Masek et al, 2006; Vermote et al, 2006). Briefly, the change detection method uses a six-year temporal signature centered on the disturbance year to identify fire, harvest and no change.  The signatures were derived from visually-interpreted disturbance or no-change polygons that were used to fit a decision tree model.  \\nThe method detects about 91% of the areas harvested and 85% of the areas burned across Canada’s forests over the study period, but overestimates areas disturbed in the two initial and mostly in the two final years of the 1985 to 2015 time series. This is caused by the absence of appropriate pre-disturbance and post-disturbance data for the model-based detection and attribution.  Disturbance coverage in those four years should therefore be used with caution. As in Guindon et al (2014), the method was designed to minimize commission errors and has a disturbance class attribution success rate of about 98%. The attribution success rate of disturbance year for fire is of about 69% for the exact year and of about 99% when attribution to the following year is also considered as a success.  This common one-year lag is mostly due to the use of mid-summer Landsat mosaics for the analysis that will cause spring and fall events of the same year to be attributed to successive years. For example, a fire that occurred in the fall of 2004 (after July and August), will be detected and attributed to 2005, while for a fire that occurred in the spring of 2004 will be detected and attributed to 2004.  The presence of clouds and shadows or image availability causes 10% of missing data annually and therefore can too delay the capture of events.   \\nThe data provides uniform spatial and temporal information on fire and harvest across all provinces and territories of Canada and is intended for strategic-level analysis. Since no attention was given to other minor disturbances such as mining, road or flooding, the product should not be used for their identification. Finally, calibration datasets were developed for only three major forest pests (mountain pine beetle, eastern spruce budworm and forest tent caterpillar), but were folded within the “no-change” class in order to minimize commission errors for fire and harvest .  Less common pests for which validation datasets are hard to develop were not considered and therefore could in rare circumstances generate false fire events.   \\nConsidering that area having two (3.3%) to three disturbances (less than 1%) events are not common, only the most recent disturbance is provided, overlapping older disturbances in these rare case.  \\n## Please cite this dataset as:   \\nGuindon, L., P. Villemaire, R. St-Amant, P.Y. Bernier, A. Beaudoin, F. Caron, M. Bonucelli and H. Dorion. 2017. Canada Landsat Disturbance (CanLaD): a Canada-wide Landsat-based 30-m resolution product of fire and harvest detection and attribution since 1984.  https://doi.org/10.23687/add1346b-f632-4eb9-a83d-a662b38655ad  \\n## Scientific article citation:\\nThe creation, validation and limitations of the CanLaD product are described in the Supplementary Material file associated with the following article: Guindon, L.; Bernier, P.Y.; Gauthier, S.; Stinson, G.; Villemaire, P.; Beaudoin, A. 2018. Missing forest cover gains in boreal forests explained. Ecosphere, 9 (1) Article e02094. doi:10.1002/ecs2.2094.\\n## Cited references:  \\nMasek, J.G., Vermote, E.F., Saleous N.E., Wolfe, R., Hall, F.G., Huemmrich, K.F., Gao, F., Kutler, J., and Lim, T-K. (2006). A Landsat surface reflectance dataset for North America, 1990–2000. IEEE Geoscience and Remote Sensing Letters 3(1):68-72. http://dx.doi.org/10.1109/LGRS.2005.857030.  \\nVermote, E., Justice, C., Claverie, M., & Franch, B. (2016). Preliminary analysis of the performance of the Landsat 8/OLI land surface reflectance product. Remote Sensing of Environment. http://dx.doi.org/10.1016/j.rse.2016.04.008.',\n",
              "  'end_datetime': '2015-01-01T00:00:00Z',\n",
              "  'label:classes': [{'classes': ['fire', 'harvest'], 'name': None}],\n",
              "  'label:description': 'Fire or Harvest',\n",
              "  'label:properties': None,\n",
              "  'label:tasks': [<LabelTask.CLASSIFICATION: 'classification'>],\n",
              "  'label:type': <LabelType.RASTER: 'raster'>,\n",
              "  'proj:bbox': [-2341500.0, 5863500.0, 3010500.0, 9436500.0],\n",
              "  'proj:epsg': 3979,\n",
              "  'proj:shape': [119100, 178400],\n",
              "  'proj:transform': [30.0,\n",
              "   0.0,\n",
              "   -2341500.0,\n",
              "   0.0,\n",
              "   -30.0,\n",
              "   9436500.0,\n",
              "   0.0,\n",
              "   0.0,\n",
              "   1.0],\n",
              "  'proj:wkt2': 'PROJCRS[\"NAD83(CSRS) / Canada Atlas Lambert\",BASEGEOGCRS[\"NAD83(CSRS)\",DATUM[\"NAD83 Canadian Spatial Reference System\",ELLIPSOID[\"GRS 1980\",6378137,298.257222101,LENGTHUNIT[\"metre\",1]]],PRIMEM[\"Greenwich\",0,ANGLEUNIT[\"degree\",0.0174532925199433]],ID[\"EPSG\",4617]],CONVERSION[\"Canada Atlas Lambert\",METHOD[\"Lambert Conic Conformal (2SP)\",ID[\"EPSG\",9802]],PARAMETER[\"Latitude of false origin\",49,ANGLEUNIT[\"degree\",0.0174532925199433],ID[\"EPSG\",8821]],PARAMETER[\"Longitude of false origin\",-95,ANGLEUNIT[\"degree\",0.0174532925199433],ID[\"EPSG\",8822]],PARAMETER[\"Latitude of 1st standard parallel\",49,ANGLEUNIT[\"degree\",0.0174532925199433],ID[\"EPSG\",8823]],PARAMETER[\"Latitude of 2nd standard parallel\",77,ANGLEUNIT[\"degree\",0.0174532925199433],ID[\"EPSG\",8824]],PARAMETER[\"Easting at false origin\",0,LENGTHUNIT[\"metre\",1],ID[\"EPSG\",8826]],PARAMETER[\"Northing at false origin\",0,LENGTHUNIT[\"metre\",1],ID[\"EPSG\",8827]]],CS[Cartesian,2],AXIS[\"(E)\",east,ORDER[1],LENGTHUNIT[\"metre\",1]],AXIS[\"(N)\",north,ORDER[2],LENGTHUNIT[\"metre\",1]],USAGE[SCOPE[\"Transformation of coordinates at 5m level of accuracy.\"],AREA[\"Canada - onshore and offshore - Alberta; British Columbia; Manitoba; New Brunswick; Newfoundland and Labrador; Northwest Territories; Nova Scotia; Nunavut; Ontario; Prince Edward Island; Quebec; Saskatchewan; Yukon.\"],BBOX[38.21,-141.01,86.46,-40.73]],ID[\"EPSG\",3979]]',\n",
              "  'sci:citation': 'Guindon, L.; Bernier, P.Y.; Gauthier, S.; Stinson, G.; Villemaire, P.; Beaudoin, A. 2018. Missing forest cover gains in boreal forests explained. Ecosphere, 9 (1) Article e02094.',\n",
              "  'sci:doi': '10.1002/ecs2.2094',\n",
              "  'start_datetime': '1984-01-01T00:00:00Z',\n",
              "  'title': 'Year of the latest forest disturbance, 1984 to 2015'},\n",
              " 'stac_extensions': ['https://stac-extensions.github.io/projection/v1.0.0/schema.json',\n",
              "  'https://stac-extensions.github.io/scientific/v1.0.0/schema.json',\n",
              "  'https://stac-extensions.github.io/label/v1.0.1/schema.json',\n",
              "  'https://stac-extensions.github.io/file/v2.0.0/schema.json'],\n",
              " 'stac_version': '1.0.0',\n",
              " 'type': 'Feature'}"
            ]
          },
          "metadata": {},
          "execution_count": 54
        }
      ]
    },
    {
      "cell_type": "markdown",
      "source": [
        "# Collection Creation\n",
        "\n",
        "Next we're going to create a collection. A collection contains fields that describe a group of items that share properties and metadata. In our example our collection will hold the 'type' and 'latest year' raster data sets. "
      ],
      "metadata": {
        "id": "LDooZszGlVcu"
      }
    },
    {
      "cell_type": "code",
      "source": [
        "title = metadata[\"tiff_metadata\"][\"dct:title\"]\n",
        "description = metadata[\"description_metadata\"][\"dct:description\"]\n",
        "\n",
        "license = \"OGL-Canada-2.0\"\n",
        "license_link = Link(\n",
        "  rel=\"license\",\n",
        "  target=\"https://open.canada.ca/en/open-government-licence-canada\",\n",
        "  title=\"Open Government Licence - Canada\",\n",
        ")\n",
        "\n",
        "start_datetime = datetime.strptime('1984', \"%Y\")  \n",
        "end_datetime = datetime.strptime('2015', \"%Y\")\n",
        "\n",
        "\n",
        "CANLAD_PROVIDER = Provider(\n",
        "    name=\"Open Government\",\n",
        "    roles=[\n",
        "        ProviderRole.HOST,\n",
        "        ProviderRole.LICENSOR,\n",
        "        ProviderRole.PROCESSOR,\n",
        "        ProviderRole.PRODUCER,\n",
        "    ],\n",
        "    url=\n",
        "    \"https://open.canada.ca/data/en/dataset/add1346b-f632-4eb9-a83d-a662b38655ad\"\n",
        ")\n",
        "\n",
        "\n",
        "collection = pystac.Collection(\n",
        "  id='CanLaD',\n",
        "  title=title,\n",
        "  description=description,\n",
        "  providers=[CANLAD_PROVIDER],\n",
        "  license=license,\n",
        "  extent=pystac.Extent(\n",
        "    pystac.SpatialExtent([bbox]),\n",
        "    pystac.TemporalExtent([[start_datetime, end_datetime]]),\n",
        "  ),\n",
        "  catalog_type=pystac.CatalogType.RELATIVE_PUBLISHED,\n",
        ")\n",
        "collection.add_link(license_link)\n"
      ],
      "metadata": {
        "id": "R6t5NXyDnyuR"
      },
      "execution_count": 55,
      "outputs": []
    },
    {
      "cell_type": "markdown",
      "source": [
        "## Collection Assets\n",
        "\n",
        "Just like items, collection can also have assets. Here we add the metadata as an asset."
      ],
      "metadata": {
        "id": "bMlHpmDTTZ2R"
      }
    },
    {
      "cell_type": "code",
      "source": [
        "collection.add_asset(\n",
        "  \"metadata\",\n",
        "  pystac.Asset(\n",
        "    href=metadata_url,\n",
        "    media_type=pystac.MediaType.JSON,\n",
        "    roles=[\"metadata\"],\n",
        "    title=\"Canada Landsat Disturbance metadata\",\n",
        "  )\n",
        ")"
      ],
      "metadata": {
        "id": "Jx40StUaTkmA"
      },
      "execution_count": 56,
      "outputs": []
    },
    {
      "cell_type": "markdown",
      "source": [
        "## Collection Extensions\n",
        "\n",
        "Collections can also have extensions, some of these are already familiar. Here we add the scientific, label and projection extensions just like we did before:"
      ],
      "metadata": {
        "id": "j8eFhxg0UIyX"
      }
    },
    {
      "cell_type": "code",
      "source": [
        "collection_label = LabelExtension.summaries(collection,\n",
        "                                            add_if_missing=True)\n",
        "collection_label.label_type = [LabelType.RASTER]\n",
        "collection_label.label_tasks = [LabelTask.CLASSIFICATION]\n",
        "collection_label.label_properties = None\n",
        "collection_label.label_classes = [\n",
        "    LabelClasses.create(list(CLASSIFICATION_VALUES.values()), None)\n",
        "]\n",
        "\n",
        "collection_proj = ProjectionExtension.summaries(collection,\n",
        "                                                add_if_missing=True)\n",
        "collection_proj.epsg = [DATA_EPSG]\n",
        "\n",
        "collection_sci = ScientificExtension.ext(collection, add_if_missing=True)\n",
        "collection_sci.doi = DOI\n",
        "collection_sci.citation = CITATION"
      ],
      "metadata": {
        "id": "WO3FZ0_eUhwh"
      },
      "execution_count": 57,
      "outputs": []
    },
    {
      "cell_type": "code",
      "source": [
        "item.set_self_href('item.json')\n",
        "collection.set_self_href('collection.json')\n",
        "collection.add_item(item)\n"
      ],
      "metadata": {
        "id": "T0MIJ7-EH6WP"
      },
      "execution_count": 58,
      "outputs": []
    },
    {
      "cell_type": "code",
      "source": [
        "collection.to_dict()"
      ],
      "metadata": {
        "colab": {
          "base_uri": "https://localhost:8080/"
        },
        "id": "zAT90qRWU8yk",
        "outputId": "ce13bbec-4677-443f-a9fd-ee463050bf64"
      },
      "execution_count": 59,
      "outputs": [
        {
          "output_type": "execute_result",
          "data": {
            "text/plain": [
              "{'assets': {'metadata': {'href': 'https://web.archive.org/web/20200210170028/https://open.canada.ca/data/en/dataset/add1346b-f632-4eb9-a83d-a662b38655ad.jsonld',\n",
              "   'roles': ['metadata'],\n",
              "   'title': 'Canada Landsat Disturbance metadata',\n",
              "   'type': <MediaType.JSON: 'application/json'>}},\n",
              " 'description': 'This data publication contains a set of files in which areas affected by fire or by harvest from 1984 to 2015 are identified at the level of individual 30m pixels on the Landsat grid. Details of the product development can be found in Guindon et al (2018).  \\nThe change detection is based on reflectance-corrected yearly summer (July and August) Landsat mosaics from 1984 to 2015 created from individual scenes developed from USGS reflectance products  (Masek et al, 2006; Vermote et al, 2006). Briefly, the change detection method uses a six-year temporal signature centered on the disturbance year to identify fire, harvest and no change.  The signatures were derived from visually-interpreted disturbance or no-change polygons that were used to fit a decision tree model.  \\nThe method detects about 91% of the areas harvested and 85% of the areas burned across Canada’s forests over the study period, but overestimates areas disturbed in the two initial and mostly in the two final years of the 1985 to 2015 time series. This is caused by the absence of appropriate pre-disturbance and post-disturbance data for the model-based detection and attribution.  Disturbance coverage in those four years should therefore be used with caution. As in Guindon et al (2014), the method was designed to minimize commission errors and has a disturbance class attribution success rate of about 98%. The attribution success rate of disturbance year for fire is of about 69% for the exact year and of about 99% when attribution to the following year is also considered as a success.  This common one-year lag is mostly due to the use of mid-summer Landsat mosaics for the analysis that will cause spring and fall events of the same year to be attributed to successive years. For example, a fire that occurred in the fall of 2004 (after July and August), will be detected and attributed to 2005, while for a fire that occurred in the spring of 2004 will be detected and attributed to 2004.  The presence of clouds and shadows or image availability causes 10% of missing data annually and therefore can too delay the capture of events.   \\nThe data provides uniform spatial and temporal information on fire and harvest across all provinces and territories of Canada and is intended for strategic-level analysis. Since no attention was given to other minor disturbances such as mining, road or flooding, the product should not be used for their identification. Finally, calibration datasets were developed for only three major forest pests (mountain pine beetle, eastern spruce budworm and forest tent caterpillar), but were folded within the “no-change” class in order to minimize commission errors for fire and harvest .  Less common pests for which validation datasets are hard to develop were not considered and therefore could in rare circumstances generate false fire events.   \\nConsidering that area having two (3.3%) to three disturbances (less than 1%) events are not common, only the most recent disturbance is provided, overlapping older disturbances in these rare case.  \\n## Please cite this dataset as:   \\nGuindon, L., P. Villemaire, R. St-Amant, P.Y. Bernier, A. Beaudoin, F. Caron, M. Bonucelli and H. Dorion. 2017. Canada Landsat Disturbance (CanLaD): a Canada-wide Landsat-based 30-m resolution product of fire and harvest detection and attribution since 1984.  https://doi.org/10.23687/add1346b-f632-4eb9-a83d-a662b38655ad  \\n## Scientific article citation:\\nThe creation, validation and limitations of the CanLaD product are described in the Supplementary Material file associated with the following article: Guindon, L.; Bernier, P.Y.; Gauthier, S.; Stinson, G.; Villemaire, P.; Beaudoin, A. 2018. Missing forest cover gains in boreal forests explained. Ecosphere, 9 (1) Article e02094. doi:10.1002/ecs2.2094.\\n## Cited references:  \\nMasek, J.G., Vermote, E.F., Saleous N.E., Wolfe, R., Hall, F.G., Huemmrich, K.F., Gao, F., Kutler, J., and Lim, T-K. (2006). A Landsat surface reflectance dataset for North America, 1990–2000. IEEE Geoscience and Remote Sensing Letters 3(1):68-72. http://dx.doi.org/10.1109/LGRS.2005.857030.  \\nVermote, E., Justice, C., Claverie, M., & Franch, B. (2016). Preliminary analysis of the performance of the Landsat 8/OLI land surface reflectance product. Remote Sensing of Environment. http://dx.doi.org/10.1016/j.rse.2016.04.008.',\n",
              " 'extent': {'spatial': {'bbox': [[29.208147682613188,\n",
              "     40.20704372347072,\n",
              "     134.7641106438931,\n",
              "     80.41031119985433]]},\n",
              "  'temporal': {'interval': [['1984-01-01T00:00:00Z',\n",
              "     '2015-01-01T00:00:00Z']]}},\n",
              " 'id': 'CanLaD',\n",
              " 'license': 'OGL-Canada-2.0',\n",
              " 'links': [{'href': './collection.json',\n",
              "   'rel': <RelType.ROOT: 'root'>,\n",
              "   'title': 'Year of the latest forest disturbance, 1984 to 2015',\n",
              "   'type': <MediaType.JSON: 'application/json'>},\n",
              "  {'href': 'https://open.canada.ca/en/open-government-licence-canada',\n",
              "   'rel': 'license',\n",
              "   'title': 'Open Government Licence - Canada'},\n",
              "  {'href': 'https://doi.org/10.1002/ecs2.2094',\n",
              "   'rel': <ScientificRelType.CITE_AS: 'cite-as'>},\n",
              "  {'href': '/content/collection.json',\n",
              "   'rel': <RelType.SELF: 'self'>,\n",
              "   'type': <MediaType.JSON: 'application/json'>},\n",
              "  {'href': './type_raster/type_raster.json',\n",
              "   'rel': <RelType.ITEM: 'item'>,\n",
              "   'type': <MediaType.JSON: 'application/json'>}],\n",
              " 'providers': [{'name': 'Open Government',\n",
              "   'roles': [<ProviderRole.HOST: 'host'>,\n",
              "    <ProviderRole.LICENSOR: 'licensor'>,\n",
              "    <ProviderRole.PROCESSOR: 'processor'>,\n",
              "    <ProviderRole.PRODUCER: 'producer'>],\n",
              "   'url': 'https://open.canada.ca/data/en/dataset/add1346b-f632-4eb9-a83d-a662b38655ad'}],\n",
              " 'sci:citation': 'Guindon, L.; Bernier, P.Y.; Gauthier, S.; Stinson, G.; Villemaire, P.; Beaudoin, A. 2018. Missing forest cover gains in boreal forests explained. Ecosphere, 9 (1) Article e02094.',\n",
              " 'sci:doi': '10.1002/ecs2.2094',\n",
              " 'stac_extensions': ['https://stac-extensions.github.io/label/v1.0.1/schema.json',\n",
              "  'https://stac-extensions.github.io/projection/v1.0.0/schema.json',\n",
              "  'https://stac-extensions.github.io/scientific/v1.0.0/schema.json'],\n",
              " 'stac_version': '1.0.0',\n",
              " 'summaries': {'label:classes': [{'classes': ['fire', 'harvest'],\n",
              "    'name': None}],\n",
              "  'label:tasks': [<LabelTask.CLASSIFICATION: 'classification'>],\n",
              "  'label:type': [<LabelType.RASTER: 'raster'>],\n",
              "  'proj:epsg': [3979]},\n",
              " 'title': 'Year of the latest forest disturbance, 1984 to 2015',\n",
              " 'type': 'Collection'}"
            ]
          },
          "metadata": {},
          "execution_count": 59
        }
      ]
    },
    {
      "cell_type": "code",
      "source": [
        "item.to_dict()"
      ],
      "metadata": {
        "colab": {
          "base_uri": "https://localhost:8080/"
        },
        "id": "oTAmiCHXv4tt",
        "outputId": "28b4c83e-ed08-4c52-fab4-a78239f47e1e"
      },
      "execution_count": 60,
      "outputs": [
        {
          "output_type": "execute_result",
          "data": {
            "text/plain": [
              "{'assets': {'COG': {'file:size': 299320339,\n",
              "   'file:values': [{'summary': 'fire', 'values': [1]},\n",
              "    {'summary': 'harvest', 'values': [2]}],\n",
              "   'href': 'https://ogc-madrid.s3.eu-central-1.amazonaws.com/CanLaD_20151984_latest_type_cog.tiff',\n",
              "   'roles': ['data', 'labels', 'labels-raster'],\n",
              "   'title': 'Canada Landsat Disturbance COG',\n",
              "   'type': <MediaType.COG: 'image/tiff; application=geotiff; profile=cloud-optimized'>},\n",
              "  'metadata': {'href': 'https://web.archive.org/web/20200210170028/https://open.canada.ca/data/en/dataset/add1346b-f632-4eb9-a83d-a662b38655ad.jsonld',\n",
              "   'roles': ['metadata'],\n",
              "   'title': 'Landsat Disturbance Metadata',\n",
              "   'type': <MediaType.JSON: 'application/json'>}},\n",
              " 'bbox': [29.208147682613188,\n",
              "  40.20704372347072,\n",
              "  134.7641106438931,\n",
              "  80.41031119985433],\n",
              " 'collection': 'CanLaD',\n",
              " 'geometry': {'coordinates': (((134.7641106438931, 40.20704372347072),\n",
              "    (134.7641106438931, 80.41031119985433),\n",
              "    (29.208147682613188, 80.41031119985433),\n",
              "    (29.208147682613188, 40.20704372347072),\n",
              "    (134.7641106438931, 40.20704372347072)),),\n",
              "  'type': 'Polygon'},\n",
              " 'id': 'type_raster',\n",
              " 'links': [{'href': 'https://doi.org/10.1002/ecs2.2094',\n",
              "   'rel': <ScientificRelType.CITE_AS: 'cite-as'>},\n",
              "  {'href': '../collection.json',\n",
              "   'rel': <RelType.ROOT: 'root'>,\n",
              "   'title': 'Year of the latest forest disturbance, 1984 to 2015',\n",
              "   'type': <MediaType.JSON: 'application/json'>},\n",
              "  {'href': '../collection.json',\n",
              "   'rel': <RelType.PARENT: 'parent'>,\n",
              "   'title': 'Year of the latest forest disturbance, 1984 to 2015',\n",
              "   'type': <MediaType.JSON: 'application/json'>},\n",
              "  {'href': '/content/type_raster/type_raster.json',\n",
              "   'rel': <RelType.SELF: 'self'>,\n",
              "   'type': <MediaType.JSON: 'application/json'>},\n",
              "  {'href': '../collection.json',\n",
              "   'rel': <RelType.COLLECTION: 'collection'>,\n",
              "   'title': 'Year of the latest forest disturbance, 1984 to 2015',\n",
              "   'type': <MediaType.JSON: 'application/json'>}],\n",
              " 'properties': {'datetime': '1984-01-01T00:00:00Z',\n",
              "  'description': 'This data publication contains a set of files in which areas affected by fire or by harvest from 1984 to 2015 are identified at the level of individual 30m pixels on the Landsat grid. Details of the product development can be found in Guindon et al (2018).  \\nThe change detection is based on reflectance-corrected yearly summer (July and August) Landsat mosaics from 1984 to 2015 created from individual scenes developed from USGS reflectance products  (Masek et al, 2006; Vermote et al, 2006). Briefly, the change detection method uses a six-year temporal signature centered on the disturbance year to identify fire, harvest and no change.  The signatures were derived from visually-interpreted disturbance or no-change polygons that were used to fit a decision tree model.  \\nThe method detects about 91% of the areas harvested and 85% of the areas burned across Canada’s forests over the study period, but overestimates areas disturbed in the two initial and mostly in the two final years of the 1985 to 2015 time series. This is caused by the absence of appropriate pre-disturbance and post-disturbance data for the model-based detection and attribution.  Disturbance coverage in those four years should therefore be used with caution. As in Guindon et al (2014), the method was designed to minimize commission errors and has a disturbance class attribution success rate of about 98%. The attribution success rate of disturbance year for fire is of about 69% for the exact year and of about 99% when attribution to the following year is also considered as a success.  This common one-year lag is mostly due to the use of mid-summer Landsat mosaics for the analysis that will cause spring and fall events of the same year to be attributed to successive years. For example, a fire that occurred in the fall of 2004 (after July and August), will be detected and attributed to 2005, while for a fire that occurred in the spring of 2004 will be detected and attributed to 2004.  The presence of clouds and shadows or image availability causes 10% of missing data annually and therefore can too delay the capture of events.   \\nThe data provides uniform spatial and temporal information on fire and harvest across all provinces and territories of Canada and is intended for strategic-level analysis. Since no attention was given to other minor disturbances such as mining, road or flooding, the product should not be used for their identification. Finally, calibration datasets were developed for only three major forest pests (mountain pine beetle, eastern spruce budworm and forest tent caterpillar), but were folded within the “no-change” class in order to minimize commission errors for fire and harvest .  Less common pests for which validation datasets are hard to develop were not considered and therefore could in rare circumstances generate false fire events.   \\nConsidering that area having two (3.3%) to three disturbances (less than 1%) events are not common, only the most recent disturbance is provided, overlapping older disturbances in these rare case.  \\n## Please cite this dataset as:   \\nGuindon, L., P. Villemaire, R. St-Amant, P.Y. Bernier, A. Beaudoin, F. Caron, M. Bonucelli and H. Dorion. 2017. Canada Landsat Disturbance (CanLaD): a Canada-wide Landsat-based 30-m resolution product of fire and harvest detection and attribution since 1984.  https://doi.org/10.23687/add1346b-f632-4eb9-a83d-a662b38655ad  \\n## Scientific article citation:\\nThe creation, validation and limitations of the CanLaD product are described in the Supplementary Material file associated with the following article: Guindon, L.; Bernier, P.Y.; Gauthier, S.; Stinson, G.; Villemaire, P.; Beaudoin, A. 2018. Missing forest cover gains in boreal forests explained. Ecosphere, 9 (1) Article e02094. doi:10.1002/ecs2.2094.\\n## Cited references:  \\nMasek, J.G., Vermote, E.F., Saleous N.E., Wolfe, R., Hall, F.G., Huemmrich, K.F., Gao, F., Kutler, J., and Lim, T-K. (2006). A Landsat surface reflectance dataset for North America, 1990–2000. IEEE Geoscience and Remote Sensing Letters 3(1):68-72. http://dx.doi.org/10.1109/LGRS.2005.857030.  \\nVermote, E., Justice, C., Claverie, M., & Franch, B. (2016). Preliminary analysis of the performance of the Landsat 8/OLI land surface reflectance product. Remote Sensing of Environment. http://dx.doi.org/10.1016/j.rse.2016.04.008.',\n",
              "  'end_datetime': '2015-01-01T00:00:00Z',\n",
              "  'label:classes': [{'classes': ['fire', 'harvest'], 'name': None}],\n",
              "  'label:description': 'Fire or Harvest',\n",
              "  'label:properties': None,\n",
              "  'label:tasks': [<LabelTask.CLASSIFICATION: 'classification'>],\n",
              "  'label:type': <LabelType.RASTER: 'raster'>,\n",
              "  'proj:bbox': [-2341500.0, 5863500.0, 3010500.0, 9436500.0],\n",
              "  'proj:epsg': 3979,\n",
              "  'proj:shape': [119100, 178400],\n",
              "  'proj:transform': [30.0,\n",
              "   0.0,\n",
              "   -2341500.0,\n",
              "   0.0,\n",
              "   -30.0,\n",
              "   9436500.0,\n",
              "   0.0,\n",
              "   0.0,\n",
              "   1.0],\n",
              "  'proj:wkt2': 'PROJCRS[\"NAD83(CSRS) / Canada Atlas Lambert\",BASEGEOGCRS[\"NAD83(CSRS)\",DATUM[\"NAD83 Canadian Spatial Reference System\",ELLIPSOID[\"GRS 1980\",6378137,298.257222101,LENGTHUNIT[\"metre\",1]]],PRIMEM[\"Greenwich\",0,ANGLEUNIT[\"degree\",0.0174532925199433]],ID[\"EPSG\",4617]],CONVERSION[\"Canada Atlas Lambert\",METHOD[\"Lambert Conic Conformal (2SP)\",ID[\"EPSG\",9802]],PARAMETER[\"Latitude of false origin\",49,ANGLEUNIT[\"degree\",0.0174532925199433],ID[\"EPSG\",8821]],PARAMETER[\"Longitude of false origin\",-95,ANGLEUNIT[\"degree\",0.0174532925199433],ID[\"EPSG\",8822]],PARAMETER[\"Latitude of 1st standard parallel\",49,ANGLEUNIT[\"degree\",0.0174532925199433],ID[\"EPSG\",8823]],PARAMETER[\"Latitude of 2nd standard parallel\",77,ANGLEUNIT[\"degree\",0.0174532925199433],ID[\"EPSG\",8824]],PARAMETER[\"Easting at false origin\",0,LENGTHUNIT[\"metre\",1],ID[\"EPSG\",8826]],PARAMETER[\"Northing at false origin\",0,LENGTHUNIT[\"metre\",1],ID[\"EPSG\",8827]]],CS[Cartesian,2],AXIS[\"(E)\",east,ORDER[1],LENGTHUNIT[\"metre\",1]],AXIS[\"(N)\",north,ORDER[2],LENGTHUNIT[\"metre\",1]],USAGE[SCOPE[\"Transformation of coordinates at 5m level of accuracy.\"],AREA[\"Canada - onshore and offshore - Alberta; British Columbia; Manitoba; New Brunswick; Newfoundland and Labrador; Northwest Territories; Nova Scotia; Nunavut; Ontario; Prince Edward Island; Quebec; Saskatchewan; Yukon.\"],BBOX[38.21,-141.01,86.46,-40.73]],ID[\"EPSG\",3979]]',\n",
              "  'sci:citation': 'Guindon, L.; Bernier, P.Y.; Gauthier, S.; Stinson, G.; Villemaire, P.; Beaudoin, A. 2018. Missing forest cover gains in boreal forests explained. Ecosphere, 9 (1) Article e02094.',\n",
              "  'sci:doi': '10.1002/ecs2.2094',\n",
              "  'start_datetime': '1984-01-01T00:00:00Z',\n",
              "  'title': 'Year of the latest forest disturbance, 1984 to 2015'},\n",
              " 'stac_extensions': ['https://stac-extensions.github.io/projection/v1.0.0/schema.json',\n",
              "  'https://stac-extensions.github.io/scientific/v1.0.0/schema.json',\n",
              "  'https://stac-extensions.github.io/label/v1.0.1/schema.json',\n",
              "  'https://stac-extensions.github.io/file/v2.0.0/schema.json'],\n",
              " 'stac_version': '1.0.0',\n",
              " 'type': 'Feature'}"
            ]
          },
          "metadata": {},
          "execution_count": 60
        }
      ]
    },
    {
      "cell_type": "code",
      "source": [
        "item.validate()\n",
        "collection.validate()\n",
        "\n",
        "item.save_object()\n",
        "collection.save_object()"
      ],
      "metadata": {
        "id": "EIVYKtrXv7p_"
      },
      "execution_count": 62,
      "outputs": []
    },
    {
      "cell_type": "markdown",
      "source": [
        "# Next Steps\n",
        "\n",
        "Now it's time for you to take control and give it a shot yourself. Using the code above and the second raster dataset you can create another item and add it to our collection. There's not too much you'll need to change: the `cog_href` and `CLASSIFICATION_VALUES`. "
      ],
      "metadata": {
        "id": "lmsOInSTYgCQ"
      }
    },
    {
      "cell_type": "code",
      "source": [
        "NEW_CLASSIFICATION_VALUES = {1985 : '1985',\n",
        "                             1986 : '1986',\n",
        "                             1987 : '1987',\n",
        "                             1988 : '1988',\n",
        "                             1989 : '1989',\n",
        "                             1990 : '1990',\n",
        "                             1991 : '1991',\n",
        "                             1992 : '1992',\n",
        "                             1993 : '1993',\n",
        "                             1994 : '1994',\n",
        "                             1995 : '1995',\n",
        "                             1996 : '1996',\n",
        "                             1997 : '1997',\n",
        "                             1998 : '1998',\n",
        "                             1999 : '1999',\n",
        "                             2000 : '2000',\n",
        "                             2001 : '2001',\n",
        "                             2002 : '2002',\n",
        "                             2003 : '2003',\n",
        "                             2004 : '2004',\n",
        "                             2005 : '2005',\n",
        "                             2006 : '2006',\n",
        "                             2007 : '2007',\n",
        "                             2008 : '2008',\n",
        "                             2009 : '2009',\n",
        "                             2010 : '2010',\n",
        "                             2011 : '2011',\n",
        "                             2012 : '2012',\n",
        "                             2013 : '2013',\n",
        "                             2014 : '2014',\n",
        "                             2015 : '2015'}"
      ],
      "metadata": {
        "id": "CxTVIHU5qg2-"
      },
      "execution_count": null,
      "outputs": []
    }
  ]
}